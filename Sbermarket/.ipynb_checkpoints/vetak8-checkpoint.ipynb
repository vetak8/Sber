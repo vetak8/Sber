{
 "cells": [
  {
   "cell_type": "code",
   "execution_count": 1,
   "metadata": {
    "_cell_guid": "b1076dfc-b9ad-4769-8c92-a6c4dae69d19",
    "_uuid": "8f2839f25d086af736a60e9eeb907d3b93b6e0e5",
    "execution": {
     "iopub.execute_input": "2021-10-25T20:11:06.798690Z",
     "iopub.status.busy": "2021-10-25T20:11:06.797778Z",
     "iopub.status.idle": "2021-10-25T20:11:06.811614Z",
     "shell.execute_reply": "2021-10-25T20:11:06.811035Z",
     "shell.execute_reply.started": "2021-10-25T20:11:06.798625Z"
    }
   },
   "outputs": [],
   "source": [
    "# This Python 3 environment comes with many helpful analytics libraries installed\n",
    "# It is defined by the kaggle/python Docker image: https://github.com/kaggle/docker-python\n",
    "# For example, here's several helpful packages to load\n",
    "\n",
    "import numpy as np # linear algebra\n",
    "import pandas as pd # data processing, CSV file I/O (e.g. pd.read_csv)\n",
    "import matplotlib.pyplot as plt\n",
    "import seaborn as sns\n",
    "from sklearn.neighbors import KNeighborsClassifier\n",
    "\n",
    "# Input data files are available in the read-only \"../input/\" directory\n",
    "# For example, running this (by clicking run or pressing Shift+Enter) will list all files under the input directory\n",
    "\n",
    "import os\n",
    "for dirname, _, filenames in os.walk('/kaggle/input'):\n",
    "    for filename in filenames:\n",
    "        print(os.path.join(dirname, filename))\n",
    "        \n",
    "\n",
    "# You can write up to 20GB to the current directory (/kaggle/working/) that gets preserved as output when you create a version using \"Save & Run All\" \n",
    "# You can also write temporary files to /kaggle/temp/, but they won't be saved outside of the current session"
   ]
  },
  {
   "cell_type": "code",
   "execution_count": 2,
   "metadata": {
    "execution": {
     "iopub.execute_input": "2021-10-25T20:11:06.813796Z",
     "iopub.status.busy": "2021-10-25T20:11:06.813393Z",
     "iopub.status.idle": "2021-10-25T20:11:08.703371Z",
     "shell.execute_reply": "2021-10-25T20:11:08.702583Z",
     "shell.execute_reply.started": "2021-10-25T20:11:06.813766Z"
    }
   },
   "outputs": [],
   "source": [
    "# df = pd.read_csv(dirname + '/train.csv')\n",
    "# sub = pd.read_csv(dirname + '/sample_submission.csv')"
   ]
  },
  {
   "cell_type": "code",
   "execution_count": 3,
   "metadata": {},
   "outputs": [],
   "source": [
    "df = pd.read_csv('train.csv')\n",
    "sub = pd.read_csv('sample_submission.csv')"
   ]
  },
  {
   "cell_type": "code",
   "execution_count": 4,
   "metadata": {
    "execution": {
     "iopub.execute_input": "2021-10-25T20:11:08.707353Z",
     "iopub.status.busy": "2021-10-25T20:11:08.707117Z",
     "iopub.status.idle": "2021-10-25T20:11:08.710984Z",
     "shell.execute_reply": "2021-10-25T20:11:08.710122Z",
     "shell.execute_reply.started": "2021-10-25T20:11:08.707323Z"
    }
   },
   "outputs": [],
   "source": [
    "RANDOM_SEED = 42 "
   ]
  },
  {
   "cell_type": "markdown",
   "metadata": {},
   "source": [
    "Посмотрим данные ближе"
   ]
  },
  {
   "cell_type": "markdown",
   "metadata": {},
   "source": [
    "# USER_ID"
   ]
  },
  {
   "cell_type": "code",
   "execution_count": 5,
   "metadata": {
    "execution": {
     "iopub.execute_input": "2021-10-25T20:11:08.712370Z",
     "iopub.status.busy": "2021-10-25T20:11:08.712190Z",
     "iopub.status.idle": "2021-10-25T20:11:08.748641Z",
     "shell.execute_reply": "2021-10-25T20:11:08.747969Z",
     "shell.execute_reply.started": "2021-10-25T20:11:08.712347Z"
    }
   },
   "outputs": [
    {
     "data": {
      "text/plain": [
       "20000"
      ]
     },
     "execution_count": 5,
     "metadata": {},
     "output_type": "execute_result"
    }
   ],
   "source": [
    "df['user_id'].nunique()"
   ]
  },
  {
   "cell_type": "code",
   "execution_count": 6,
   "metadata": {
    "execution": {
     "iopub.execute_input": "2021-10-25T20:11:08.750788Z",
     "iopub.status.busy": "2021-10-25T20:11:08.750567Z",
     "iopub.status.idle": "2021-10-25T20:11:08.778477Z",
     "shell.execute_reply": "2021-10-25T20:11:08.777684Z",
     "shell.execute_reply.started": "2021-10-25T20:11:08.750760Z"
    }
   },
   "outputs": [],
   "source": [
    "v_c_user = df['user_id'].value_counts()"
   ]
  },
  {
   "cell_type": "code",
   "execution_count": 7,
   "metadata": {
    "execution": {
     "iopub.execute_input": "2021-10-25T20:11:08.780344Z",
     "iopub.status.busy": "2021-10-25T20:11:08.779933Z",
     "iopub.status.idle": "2021-10-25T20:11:08.789215Z",
     "shell.execute_reply": "2021-10-25T20:11:08.788616Z",
     "shell.execute_reply.started": "2021-10-25T20:11:08.780312Z"
    }
   },
   "outputs": [],
   "source": [
    "idxs_users_upper_mean = set(v_c_user[v_c_user > v_c_user.mean()].index) # Индексы пользователей, которые,в среднем, делают больше заказов."
   ]
  },
  {
   "cell_type": "code",
   "execution_count": 8,
   "metadata": {
    "execution": {
     "iopub.execute_input": "2021-10-25T20:11:08.791571Z",
     "iopub.status.busy": "2021-10-25T20:11:08.791075Z",
     "iopub.status.idle": "2021-10-25T20:11:09.385080Z",
     "shell.execute_reply": "2021-10-25T20:11:09.383365Z",
     "shell.execute_reply.started": "2021-10-25T20:11:08.791525Z"
    }
   },
   "outputs": [
    {
     "data": {
      "image/png": "[encoded data removed]",
      "text/plain": [
       "<Figure size 1440x432 with 1 Axes>"
      ]
     },
     "metadata": {
      "needs_background": "light"
     },
     "output_type": "display_data"
    }
   ],
   "source": [
    "df['user_id'].value_counts().hist(bins=150, figsize=(20,6));"
   ]
  },
  {
   "cell_type": "markdown",
   "metadata": {},
   "source": [
    "Видим, что имеем 20000 уникальных пользователей. Постоянные клиенты (с меньшим id) делают больше заказов. Можем предположить, что они уже разобрались со своими предпочтениями, и скорее всего, закажут то, что ранее заказывали. "
   ]
  },
  {
   "cell_type": "markdown",
   "metadata": {},
   "source": [
    "# CART"
   ]
  },
  {
   "cell_type": "code",
   "execution_count": 9,
   "metadata": {
    "execution": {
     "iopub.execute_input": "2021-10-25T20:11:09.386313Z",
     "iopub.status.busy": "2021-10-25T20:11:09.386085Z",
     "iopub.status.idle": "2021-10-25T20:11:10.284463Z",
     "shell.execute_reply": "2021-10-25T20:11:10.283791Z",
     "shell.execute_reply.started": "2021-10-25T20:11:09.386286Z"
    }
   },
   "outputs": [
    {
     "data": {
      "image/png": "[encoded data removed]",
      "text/plain": [
       "<Figure size 1440x504 with 1 Axes>"
      ]
     },
     "metadata": {
      "needs_background": "light"
     },
     "output_type": "display_data"
    }
   ],
   "source": [
    "plt.figure(figsize=(20,7))\n",
    "plt.hist(df.cart, bins=300)\n",
    "plt.title('Рспределение всех позиций');"
   ]
  },
  {
   "cell_type": "markdown",
   "metadata": {},
   "source": [
    "Мы можем видеть, что некоторые позиции выбираются гораздо чаще остальных среди всей выборки пользователей. Возможно это продукты постоянного потребления. Так же можно заметить некоторую кластеризацию позиций, например с 380 по 540. Возможно используем KMeans."
   ]
  },
  {
   "cell_type": "markdown",
   "metadata": {},
   "source": [
    "Предположим, что вероятность того, закажет ли пользователь определенную позицию связана с частотой заказов этой позиции по всему датасету. Чем чаще встречается, тем больше вероятность заказа.\n",
    "\n",
    "Для эксперемента возьмем индексы позиций частота которых выше  средней, медианной и прозвольных (исходя из графика) частот. "
   ]
  },
  {
   "cell_type": "code",
   "execution_count": 10,
   "metadata": {
    "execution": {
     "iopub.execute_input": "2021-10-25T20:11:10.285736Z",
     "iopub.status.busy": "2021-10-25T20:11:10.285512Z",
     "iopub.status.idle": "2021-10-25T20:11:10.310598Z",
     "shell.execute_reply": "2021-10-25T20:11:10.309737Z",
     "shell.execute_reply.started": "2021-10-25T20:11:10.285707Z"
    }
   },
   "outputs": [
    {
     "name": "stdout",
     "output_type": "stream",
     "text": [
      "Медианная частота позиции 66.0\n",
      "Средняя частота позиции 3544.9\n"
     ]
    }
   ],
   "source": [
    "v = df.cart.value_counts()\n",
    "print('Медианная частота позиции {}'.format(v.median()))\n",
    "print(f'Средняя частота позиции {round(v.mean(),1)}')"
   ]
  },
  {
   "cell_type": "markdown",
   "metadata": {},
   "source": []
  },
  {
   "cell_type": "code",
   "execution_count": 11,
   "metadata": {
    "execution": {
     "iopub.execute_input": "2021-10-25T20:11:10.311926Z",
     "iopub.status.busy": "2021-10-25T20:11:10.311729Z",
     "iopub.status.idle": "2021-10-25T20:11:10.320866Z",
     "shell.execute_reply": "2021-10-25T20:11:10.320201Z",
     "shell.execute_reply.started": "2021-10-25T20:11:10.311901Z"
    }
   },
   "outputs": [],
   "source": [
    "carts_upper_mean_v = set(map(str,v[v.values>=np.mean(v.values)].index))\n",
    "carts_upper_median_v = set(map(str,v[v.values>=np.median(v.values)].index))\n",
    "# carts_upper_75_v = set(map(str,v[v.values>=75000].index))\n",
    "# carts_upper_90_v = set(map(str,v[v.values>=90000].index))\n",
    "# carts_upper_100_v = set(map(str,v[v.values>=100000].index))\n",
    "# carts_upper_50_v = set(map(str,v[v.values>=50000].index))"
   ]
  },
  {
   "cell_type": "markdown",
   "metadata": {},
   "source": [
    "Сгрупируем датасет по user_id и cart, посчитаем количество заказов каждой позиции"
   ]
  },
  {
   "cell_type": "code",
   "execution_count": 12,
   "metadata": {
    "execution": {
     "iopub.execute_input": "2021-10-25T20:11:10.322393Z",
     "iopub.status.busy": "2021-10-25T20:11:10.322188Z",
     "iopub.status.idle": "2021-10-25T20:11:11.224035Z",
     "shell.execute_reply": "2021-10-25T20:11:11.222792Z",
     "shell.execute_reply.started": "2021-10-25T20:11:10.322368Z"
    }
   },
   "outputs": [],
   "source": [
    "grouped_df = pd.DataFrame(df.groupby(['user_id', 'cart'])['order_completed_at'].count())\n",
    "grouped_df.columns=['amount_of_orders']"
   ]
  },
  {
   "cell_type": "code",
   "execution_count": 13,
   "metadata": {
    "execution": {
     "iopub.execute_input": "2021-10-25T20:11:11.225752Z",
     "iopub.status.busy": "2021-10-25T20:11:11.225475Z",
     "iopub.status.idle": "2021-10-25T20:11:11.275070Z",
     "shell.execute_reply": "2021-10-25T20:11:11.274383Z",
     "shell.execute_reply.started": "2021-10-25T20:11:11.225716Z"
    }
   },
   "outputs": [
    {
     "data": {
      "text/html": [
       "<div>\n",
       "<style scoped>\n",
       "    .dataframe tbody tr th:only-of-type {\n",
       "        vertical-align: middle;\n",
       "    }\n",
       "\n",
       "    .dataframe tbody tr th {\n",
       "        vertical-align: top;\n",
       "    }\n",
       "\n",
       "    .dataframe thead th {\n",
       "        text-align: right;\n",
       "    }\n",
       "</style>\n",
       "<table border=\"1\" class=\"dataframe\">\n",
       "  <thead>\n",
       "    <tr style=\"text-align: right;\">\n",
       "      <th></th>\n",
       "      <th></th>\n",
       "      <th>amount_of_orders</th>\n",
       "    </tr>\n",
       "    <tr>\n",
       "      <th>user_id</th>\n",
       "      <th>cart</th>\n",
       "      <th></th>\n",
       "    </tr>\n",
       "  </thead>\n",
       "  <tbody>\n",
       "    <tr>\n",
       "      <th>6541</th>\n",
       "      <th>9</th>\n",
       "      <td>1</td>\n",
       "    </tr>\n",
       "    <tr>\n",
       "      <th>7596</th>\n",
       "      <th>437</th>\n",
       "      <td>1</td>\n",
       "    </tr>\n",
       "    <tr>\n",
       "      <th>3477</th>\n",
       "      <th>84</th>\n",
       "      <td>7</td>\n",
       "    </tr>\n",
       "    <tr>\n",
       "      <th>426</th>\n",
       "      <th>417</th>\n",
       "      <td>2</td>\n",
       "    </tr>\n",
       "    <tr>\n",
       "      <th>4872</th>\n",
       "      <th>57</th>\n",
       "      <td>15</td>\n",
       "    </tr>\n",
       "  </tbody>\n",
       "</table>\n",
       "</div>"
      ],
      "text/plain": [
       "              amount_of_orders\n",
       "user_id cart                  \n",
       "6541    9                    1\n",
       "7596    437                  1\n",
       "3477    84                   7\n",
       "426     417                  2\n",
       "4872    57                  15"
      ]
     },
     "execution_count": 13,
     "metadata": {},
     "output_type": "execute_result"
    }
   ],
   "source": [
    "grouped_df.sample(5)"
   ]
  },
  {
   "cell_type": "code",
   "execution_count": 14,
   "metadata": {
    "execution": {
     "iopub.execute_input": "2021-10-25T20:11:11.277812Z",
     "iopub.status.busy": "2021-10-25T20:11:11.277391Z",
     "iopub.status.idle": "2021-10-25T20:11:11.964499Z",
     "shell.execute_reply": "2021-10-25T20:11:11.963852Z",
     "shell.execute_reply.started": "2021-10-25T20:11:11.277772Z"
    }
   },
   "outputs": [
    {
     "data": {
      "image/png": "[encoded data removed]",
      "text/plain": [
       "<Figure size 1440x432 with 1 Axes>"
      ]
     },
     "metadata": {
      "needs_background": "light"
     },
     "output_type": "display_data"
    }
   ],
   "source": [
    "plt.figure(figsize=(20,6))\n",
    "plt.plot(grouped_df.groupby(level='cart').count())\n",
    "plt.title('Распределение позиций после группировки');"
   ]
  },
  {
   "cell_type": "markdown",
   "metadata": {},
   "source": [
    "Мы видим, что графики очень похожи. Проверим совпадают ли множества индексов с частотами позиций больше медианной и средней частот."
   ]
  },
  {
   "cell_type": "code",
   "execution_count": 15,
   "metadata": {
    "execution": {
     "iopub.execute_input": "2021-10-25T20:11:11.967877Z",
     "iopub.status.busy": "2021-10-25T20:11:11.967469Z",
     "iopub.status.idle": "2021-10-25T20:11:11.995279Z",
     "shell.execute_reply": "2021-10-25T20:11:11.994567Z",
     "shell.execute_reply.started": "2021-10-25T20:11:11.967842Z"
    }
   },
   "outputs": [],
   "source": [
    "g = grouped_df.groupby(level='cart').count()\n",
    "carts_upper_mean_g = set(map(str,g[g['amount_of_orders']>=g['amount_of_orders'].mean()].index)) \n",
    "carts_upper_median_g = set(map(str,g[g['amount_of_orders']>=g['amount_of_orders'].median()].index)) "
   ]
  },
  {
   "cell_type": "code",
   "execution_count": 16,
   "metadata": {
    "execution": {
     "iopub.execute_input": "2021-10-25T20:11:11.997075Z",
     "iopub.status.busy": "2021-10-25T20:11:11.996543Z",
     "iopub.status.idle": "2021-10-25T20:11:12.003608Z",
     "shell.execute_reply": "2021-10-25T20:11:12.002794Z",
     "shell.execute_reply.started": "2021-10-25T20:11:11.997028Z"
    }
   },
   "outputs": [
    {
     "data": {
      "text/plain": [
       "{'105',\n",
       " '107',\n",
       " '12',\n",
       " '13',\n",
       " '135',\n",
       " '139',\n",
       " '142',\n",
       " '153',\n",
       " '161',\n",
       " '168',\n",
       " '205',\n",
       " '220',\n",
       " '229',\n",
       " '262',\n",
       " '381',\n",
       " '390',\n",
       " '404',\n",
       " '410',\n",
       " '417',\n",
       " '423',\n",
       " '424',\n",
       " '439',\n",
       " '444',\n",
       " '49',\n",
       " '65',\n",
       " '79',\n",
       " '805',\n",
       " '806',\n",
       " '820',\n",
       " '838',\n",
       " '846'}"
      ]
     },
     "execution_count": 16,
     "metadata": {},
     "output_type": "execute_result"
    }
   ],
   "source": [
    "carts_upper_mean_g - carts_upper_mean_v"
   ]
  },
  {
   "cell_type": "code",
   "execution_count": 17,
   "metadata": {
    "execution": {
     "iopub.execute_input": "2021-10-25T20:11:12.005354Z",
     "iopub.status.busy": "2021-10-25T20:11:12.004902Z",
     "iopub.status.idle": "2021-10-25T20:11:12.014483Z",
     "shell.execute_reply": "2021-10-25T20:11:12.013533Z",
     "shell.execute_reply.started": "2021-10-25T20:11:12.005308Z"
    }
   },
   "outputs": [
    {
     "data": {
      "text/plain": [
       "{'295', '339', '605', '761'}"
      ]
     },
     "execution_count": 17,
     "metadata": {},
     "output_type": "execute_result"
    }
   ],
   "source": [
    "carts_upper_median_g - carts_upper_median_v"
   ]
  },
  {
   "cell_type": "markdown",
   "metadata": {},
   "source": [
    "Видим, что множества имеют различия. Может имеет смысл их объеденить?"
   ]
  },
  {
   "cell_type": "code",
   "execution_count": 18,
   "metadata": {
    "execution": {
     "iopub.execute_input": "2021-10-25T20:11:12.017578Z",
     "iopub.status.busy": "2021-10-25T20:11:12.017362Z",
     "iopub.status.idle": "2021-10-25T20:11:12.023685Z",
     "shell.execute_reply": "2021-10-25T20:11:12.022970Z",
     "shell.execute_reply.started": "2021-10-25T20:11:12.017552Z"
    }
   },
   "outputs": [],
   "source": [
    "carts_upper_median_v.update(carts_upper_median_g)"
   ]
  },
  {
   "cell_type": "code",
   "execution_count": 19,
   "metadata": {
    "execution": {
     "iopub.execute_input": "2021-10-25T20:11:12.024990Z",
     "iopub.status.busy": "2021-10-25T20:11:12.024789Z",
     "iopub.status.idle": "2021-10-25T20:11:12.033619Z",
     "shell.execute_reply": "2021-10-25T20:11:12.033060Z",
     "shell.execute_reply.started": "2021-10-25T20:11:12.024964Z"
    }
   },
   "outputs": [],
   "source": [
    "carts_upper_mean_v.update(carts_upper_mean_g)"
   ]
  },
  {
   "cell_type": "code",
   "execution_count": 20,
   "metadata": {
    "_kg_hide-input": false,
    "_kg_hide-output": true,
    "execution": {
     "iopub.execute_input": "2021-10-25T20:11:12.035412Z",
     "iopub.status.busy": "2021-10-25T20:11:12.035096Z",
     "iopub.status.idle": "2021-10-25T20:11:14.703189Z",
     "shell.execute_reply": "2021-10-25T20:11:14.702358Z",
     "shell.execute_reply.started": "2021-10-25T20:11:12.035361Z"
    }
   },
   "outputs": [],
   "source": [
    "indxs = [str(x[0])+';'+str(x[1]) for x in grouped_df.index] # Преобразуем индексы к виду, который требует задание.\n",
    "count_of_orders = grouped_df.values"
   ]
  },
  {
   "cell_type": "code",
   "execution_count": 21,
   "metadata": {
    "execution": {
     "iopub.execute_input": "2021-10-25T20:11:14.704897Z",
     "iopub.status.busy": "2021-10-25T20:11:14.704590Z",
     "iopub.status.idle": "2021-10-25T20:11:14.720172Z",
     "shell.execute_reply": "2021-10-25T20:11:14.719521Z",
     "shell.execute_reply.started": "2021-10-25T20:11:14.704858Z"
    }
   },
   "outputs": [
    {
     "data": {
      "text/html": [
       "<div>\n",
       "<style scoped>\n",
       "    .dataframe tbody tr th:only-of-type {\n",
       "        vertical-align: middle;\n",
       "    }\n",
       "\n",
       "    .dataframe tbody tr th {\n",
       "        vertical-align: top;\n",
       "    }\n",
       "\n",
       "    .dataframe thead th {\n",
       "        text-align: right;\n",
       "    }\n",
       "</style>\n",
       "<table border=\"1\" class=\"dataframe\">\n",
       "  <thead>\n",
       "    <tr style=\"text-align: right;\">\n",
       "      <th></th>\n",
       "      <th></th>\n",
       "      <th>amount_of_orders</th>\n",
       "    </tr>\n",
       "    <tr>\n",
       "      <th>user_id</th>\n",
       "      <th>cart</th>\n",
       "      <th></th>\n",
       "    </tr>\n",
       "  </thead>\n",
       "  <tbody>\n",
       "    <tr>\n",
       "      <th rowspan=\"5\" valign=\"top\">0</th>\n",
       "      <th>5</th>\n",
       "      <td>1</td>\n",
       "    </tr>\n",
       "    <tr>\n",
       "      <th>10</th>\n",
       "      <td>1</td>\n",
       "    </tr>\n",
       "    <tr>\n",
       "      <th>14</th>\n",
       "      <td>2</td>\n",
       "    </tr>\n",
       "    <tr>\n",
       "      <th>20</th>\n",
       "      <td>1</td>\n",
       "    </tr>\n",
       "    <tr>\n",
       "      <th>22</th>\n",
       "      <td>1</td>\n",
       "    </tr>\n",
       "    <tr>\n",
       "      <th>...</th>\n",
       "      <th>...</th>\n",
       "      <td>...</td>\n",
       "    </tr>\n",
       "    <tr>\n",
       "      <th rowspan=\"4\" valign=\"top\">19998</th>\n",
       "      <th>409</th>\n",
       "      <td>1</td>\n",
       "    </tr>\n",
       "    <tr>\n",
       "      <th>415</th>\n",
       "      <td>2</td>\n",
       "    </tr>\n",
       "    <tr>\n",
       "      <th>420</th>\n",
       "      <td>2</td>\n",
       "    </tr>\n",
       "    <tr>\n",
       "      <th>798</th>\n",
       "      <td>1</td>\n",
       "    </tr>\n",
       "    <tr>\n",
       "      <th>19999</th>\n",
       "      <th>326</th>\n",
       "      <td>3</td>\n",
       "    </tr>\n",
       "  </tbody>\n",
       "</table>\n",
       "<p>1117600 rows × 1 columns</p>\n",
       "</div>"
      ],
      "text/plain": [
       "              amount_of_orders\n",
       "user_id cart                  \n",
       "0       5                    1\n",
       "        10                   1\n",
       "        14                   2\n",
       "        20                   1\n",
       "        22                   1\n",
       "...                        ...\n",
       "19998   409                  1\n",
       "        415                  2\n",
       "        420                  2\n",
       "        798                  1\n",
       "19999   326                  3\n",
       "\n",
       "[1117600 rows x 1 columns]"
      ]
     },
     "execution_count": 21,
     "metadata": {},
     "output_type": "execute_result"
    }
   ],
   "source": [
    "grouped_df"
   ]
  },
  {
   "cell_type": "code",
   "execution_count": 22,
   "metadata": {
    "execution": {
     "iopub.execute_input": "2021-10-25T20:11:14.721948Z",
     "iopub.status.busy": "2021-10-25T20:11:14.721328Z",
     "iopub.status.idle": "2021-10-25T20:11:15.150742Z",
     "shell.execute_reply": "2021-10-25T20:11:15.149982Z",
     "shell.execute_reply.started": "2021-10-25T20:11:14.721906Z"
    }
   },
   "outputs": [],
   "source": [
    "df_new = pd.DataFrame()\n",
    "df_new['id'] = indxs\n",
    "df_new['count_of_orders'] = count_of_orders"
   ]
  },
  {
   "cell_type": "code",
   "execution_count": 23,
   "metadata": {
    "execution": {
     "iopub.execute_input": "2021-10-25T20:11:15.152261Z",
     "iopub.status.busy": "2021-10-25T20:11:15.151902Z",
     "iopub.status.idle": "2021-10-25T20:11:15.164960Z",
     "shell.execute_reply": "2021-10-25T20:11:15.164247Z",
     "shell.execute_reply.started": "2021-10-25T20:11:15.152229Z"
    }
   },
   "outputs": [
    {
     "data": {
      "text/plain": [
       "1     560598\n",
       "2     219336\n",
       "3     112588\n",
       "4      63920\n",
       "5      40061\n",
       "6      27466\n",
       "7      19136\n",
       "8      14359\n",
       "9      10668\n",
       "10      8271\n",
       "11      6629\n",
       "12      5332\n",
       "13      4214\n",
       "14      3443\n",
       "15      2889\n",
       "Name: count_of_orders, dtype: int64"
      ]
     },
     "execution_count": 23,
     "metadata": {},
     "output_type": "execute_result"
    }
   ],
   "source": [
    "df_new.count_of_orders.value_counts()[:15]"
   ]
  },
  {
   "cell_type": "markdown",
   "metadata": {},
   "source": [
    "Можем отметить, что продуктов, которые купили 1,2 или 3 раза больше всего. Предположим, вероятность того, что приобретут товары вне этого диапазона."
   ]
  },
  {
   "cell_type": "code",
   "execution_count": 24,
   "metadata": {
    "execution": {
     "iopub.execute_input": "2021-10-25T20:11:15.166658Z",
     "iopub.status.busy": "2021-10-25T20:11:15.166269Z",
     "iopub.status.idle": "2021-10-25T20:11:15.314447Z",
     "shell.execute_reply": "2021-10-25T20:11:15.313563Z",
     "shell.execute_reply.started": "2021-10-25T20:11:15.166630Z"
    }
   },
   "outputs": [],
   "source": [
    "ids_2 = set(df_new[(df_new['count_of_orders']>=3)]['id'].reset_index(drop=True)) # Отберем индексы вида user_id;cart выполняющие условия"
   ]
  },
  {
   "cell_type": "code",
   "execution_count": 25,
   "metadata": {
    "execution": {
     "iopub.execute_input": "2021-10-25T20:19:08.728047Z",
     "iopub.status.busy": "2021-10-25T20:19:08.727585Z",
     "iopub.status.idle": "2021-10-25T20:19:09.413860Z",
     "shell.execute_reply": "2021-10-25T20:19:09.412932Z",
     "shell.execute_reply.started": "2021-10-25T20:19:08.727986Z"
    }
   },
   "outputs": [],
   "source": [
    "sub['target'] = sub['id'].apply(lambda x:1 if x in ids_2 and \n",
    "                                ((x.split(';')[1] in carts_upper_mean_v) or \n",
    "                                (x.split(';')[0] in idxs_users_upper_mean)) else 0 )"
   ]
  },
  {
   "cell_type": "code",
   "execution_count": 26,
   "metadata": {
    "execution": {
     "iopub.execute_input": "2021-10-25T20:19:09.417814Z",
     "iopub.status.busy": "2021-10-25T20:19:09.417409Z",
     "iopub.status.idle": "2021-10-25T20:19:09.430553Z",
     "shell.execute_reply": "2021-10-25T20:19:09.429935Z",
     "shell.execute_reply.started": "2021-10-25T20:19:09.417766Z"
    }
   },
   "outputs": [
    {
     "data": {
      "text/plain": [
       "0    0.678662\n",
       "1    0.321338\n",
       "Name: target, dtype: float64"
      ]
     },
     "execution_count": 26,
     "metadata": {},
     "output_type": "execute_result"
    }
   ],
   "source": [
    "sub['target'].value_counts(normalize=True)"
   ]
  },
  {
   "cell_type": "code",
   "execution_count": 27,
   "metadata": {
    "execution": {
     "iopub.execute_input": "2021-10-25T20:11:16.056530Z",
     "iopub.status.busy": "2021-10-25T20:11:16.056348Z",
     "iopub.status.idle": "2021-10-25T20:11:17.588954Z",
     "shell.execute_reply": "2021-10-25T20:11:17.588020Z",
     "shell.execute_reply.started": "2021-10-25T20:11:16.056506Z"
    }
   },
   "outputs": [],
   "source": [
    "sub.to_csv('base_sub.csv', index=False)"
   ]
  },
  {
   "cell_type": "markdown",
   "metadata": {},
   "source": [
    "Такое решение выдало 0.41347. Попробуем добавить кластеры и проанализировать их."
   ]
  },
  {
   "cell_type": "code",
   "execution_count": 28,
   "metadata": {
    "execution": {
     "iopub.execute_input": "2021-10-25T20:11:17.591133Z",
     "iopub.status.busy": "2021-10-25T20:11:17.590295Z",
     "iopub.status.idle": "2021-10-25T20:11:18.020485Z",
     "shell.execute_reply": "2021-10-25T20:11:18.019653Z",
     "shell.execute_reply.started": "2021-10-25T20:11:17.591085Z"
    }
   },
   "outputs": [
    {
     "data": {
      "text/html": [
       "<div>\n",
       "<style scoped>\n",
       "    .dataframe tbody tr th:only-of-type {\n",
       "        vertical-align: middle;\n",
       "    }\n",
       "\n",
       "    .dataframe tbody tr th {\n",
       "        vertical-align: top;\n",
       "    }\n",
       "\n",
       "    .dataframe thead th {\n",
       "        text-align: right;\n",
       "    }\n",
       "</style>\n",
       "<table border=\"1\" class=\"dataframe\">\n",
       "  <thead>\n",
       "    <tr style=\"text-align: right;\">\n",
       "      <th></th>\n",
       "      <th>id</th>\n",
       "      <th>target</th>\n",
       "    </tr>\n",
       "  </thead>\n",
       "  <tbody>\n",
       "    <tr>\n",
       "      <th>0</th>\n",
       "      <td>0;133</td>\n",
       "      <td>0</td>\n",
       "    </tr>\n",
       "    <tr>\n",
       "      <th>1</th>\n",
       "      <td>0;5</td>\n",
       "      <td>0</td>\n",
       "    </tr>\n",
       "    <tr>\n",
       "      <th>2</th>\n",
       "      <td>0;10</td>\n",
       "      <td>0</td>\n",
       "    </tr>\n",
       "    <tr>\n",
       "      <th>3</th>\n",
       "      <td>0;396</td>\n",
       "      <td>0</td>\n",
       "    </tr>\n",
       "    <tr>\n",
       "      <th>4</th>\n",
       "      <td>0;14</td>\n",
       "      <td>0</td>\n",
       "    </tr>\n",
       "    <tr>\n",
       "      <th>...</th>\n",
       "      <td>...</td>\n",
       "      <td>...</td>\n",
       "    </tr>\n",
       "    <tr>\n",
       "      <th>790444</th>\n",
       "      <td>19998;26</td>\n",
       "      <td>0</td>\n",
       "    </tr>\n",
       "    <tr>\n",
       "      <th>790445</th>\n",
       "      <td>19998;31</td>\n",
       "      <td>0</td>\n",
       "    </tr>\n",
       "    <tr>\n",
       "      <th>790446</th>\n",
       "      <td>19998;29</td>\n",
       "      <td>0</td>\n",
       "    </tr>\n",
       "    <tr>\n",
       "      <th>790447</th>\n",
       "      <td>19998;798</td>\n",
       "      <td>0</td>\n",
       "    </tr>\n",
       "    <tr>\n",
       "      <th>790448</th>\n",
       "      <td>19998;415</td>\n",
       "      <td>0</td>\n",
       "    </tr>\n",
       "  </tbody>\n",
       "</table>\n",
       "<p>790449 rows × 2 columns</p>\n",
       "</div>"
      ],
      "text/plain": [
       "               id  target\n",
       "0           0;133       0\n",
       "1             0;5       0\n",
       "2            0;10       0\n",
       "3           0;396       0\n",
       "4            0;14       0\n",
       "...           ...     ...\n",
       "790444   19998;26       0\n",
       "790445   19998;31       0\n",
       "790446   19998;29       0\n",
       "790447  19998;798       0\n",
       "790448  19998;415       0\n",
       "\n",
       "[790449 rows x 2 columns]"
      ]
     },
     "execution_count": 28,
     "metadata": {},
     "output_type": "execute_result"
    }
   ],
   "source": [
    "pd.read_csv('base_sub.csv')"
   ]
  },
  {
   "cell_type": "code",
   "execution_count": 29,
   "metadata": {
    "execution": {
     "iopub.execute_input": "2021-10-25T20:11:18.022462Z",
     "iopub.status.busy": "2021-10-25T20:11:18.022142Z",
     "iopub.status.idle": "2021-10-25T20:11:18.029203Z",
     "shell.execute_reply": "2021-10-25T20:11:18.028372Z",
     "shell.execute_reply.started": "2021-10-25T20:11:18.022421Z"
    }
   },
   "outputs": [],
   "source": [
    "from sklearn.cluster import KMeans"
   ]
  },
  {
   "cell_type": "markdown",
   "metadata": {},
   "source": [
    "Разобьем продукты на 6 кластеров по частоте их заказов. (Интуитивно, исходя из графика)"
   ]
  },
  {
   "cell_type": "code",
   "execution_count": 30,
   "metadata": {
    "execution": {
     "iopub.execute_input": "2021-10-25T20:11:18.031023Z",
     "iopub.status.busy": "2021-10-25T20:11:18.030534Z",
     "iopub.status.idle": "2021-10-25T20:11:18.044653Z",
     "shell.execute_reply": "2021-10-25T20:11:18.043913Z",
     "shell.execute_reply.started": "2021-10-25T20:11:18.030979Z"
    }
   },
   "outputs": [],
   "source": [
    "X = df['cart'].reset_index(drop=True).values\n",
    "X = X.reshape(-1,1)"
   ]
  },
  {
   "cell_type": "code",
   "execution_count": 31,
   "metadata": {
    "execution": {
     "iopub.execute_input": "2021-10-25T20:11:18.046409Z",
     "iopub.status.busy": "2021-10-25T20:11:18.045985Z",
     "iopub.status.idle": "2021-10-25T20:11:31.338761Z",
     "shell.execute_reply": "2021-10-25T20:11:31.338072Z",
     "shell.execute_reply.started": "2021-10-25T20:11:18.046372Z"
    }
   },
   "outputs": [],
   "source": [
    "model_cart = KMeans(n_clusters=6, random_state=RANDOM_SEED)\n",
    "predict = model_cart.fit_predict(X)\n"
   ]
  },
  {
   "cell_type": "code",
   "execution_count": 32,
   "metadata": {
    "execution": {
     "iopub.execute_input": "2021-10-25T20:11:31.340553Z",
     "iopub.status.busy": "2021-10-25T20:11:31.340106Z",
     "iopub.status.idle": "2021-10-25T20:11:31.347818Z",
     "shell.execute_reply": "2021-10-25T20:11:31.347060Z",
     "shell.execute_reply.started": "2021-10-25T20:11:31.340519Z"
    }
   },
   "outputs": [],
   "source": [
    "df['cluster_cart'] = predict"
   ]
  },
  {
   "cell_type": "code",
   "execution_count": 33,
   "metadata": {
    "execution": {
     "iopub.execute_input": "2021-10-25T20:11:31.350073Z",
     "iopub.status.busy": "2021-10-25T20:11:31.349532Z",
     "iopub.status.idle": "2021-10-25T20:11:31.707762Z",
     "shell.execute_reply": "2021-10-25T20:11:31.707190Z",
     "shell.execute_reply.started": "2021-10-25T20:11:31.350036Z"
    }
   },
   "outputs": [
    {
     "data": {
      "image/png": "[encoded data removed]",
      "text/plain": [
       "<Figure size 432x288 with 1 Axes>"
      ]
     },
     "metadata": {
      "needs_background": "light"
     },
     "output_type": "display_data"
    }
   ],
   "source": [
    "df.cluster_cart.hist(bins=12);"
   ]
  },
  {
   "cell_type": "markdown",
   "metadata": {},
   "source": [
    "Попробуем кластеризовать, добавив к информации о продуктах информацию о пользователях"
   ]
  },
  {
   "cell_type": "code",
   "execution_count": 34,
   "metadata": {
    "execution": {
     "iopub.execute_input": "2021-10-25T20:11:31.709369Z",
     "iopub.status.busy": "2021-10-25T20:11:31.708959Z",
     "iopub.status.idle": "2021-10-25T20:11:31.725703Z",
     "shell.execute_reply": "2021-10-25T20:11:31.725165Z",
     "shell.execute_reply.started": "2021-10-25T20:11:31.709338Z"
    }
   },
   "outputs": [],
   "source": [
    "XXX = df[['user_id', 'cart']].values"
   ]
  },
  {
   "cell_type": "code",
   "execution_count": 35,
   "metadata": {
    "execution": {
     "iopub.execute_input": "2021-10-25T20:11:31.727449Z",
     "iopub.status.busy": "2021-10-25T20:11:31.726754Z",
     "iopub.status.idle": "2021-10-25T20:11:55.276791Z",
     "shell.execute_reply": "2021-10-25T20:11:55.275956Z",
     "shell.execute_reply.started": "2021-10-25T20:11:31.727413Z"
    }
   },
   "outputs": [],
   "source": [
    "model__ = KMeans(n_clusters=6, random_state=RANDOM_SEED)\n",
    "predict__ = model__.fit_predict(XXX)"
   ]
  },
  {
   "cell_type": "code",
   "execution_count": 36,
   "metadata": {
    "execution": {
     "iopub.execute_input": "2021-10-25T20:11:55.279203Z",
     "iopub.status.busy": "2021-10-25T20:11:55.278222Z",
     "iopub.status.idle": "2021-10-25T20:11:55.288350Z",
     "shell.execute_reply": "2021-10-25T20:11:55.287726Z",
     "shell.execute_reply.started": "2021-10-25T20:11:55.279158Z"
    }
   },
   "outputs": [],
   "source": [
    "df['cluster_user_cart'] = predict__"
   ]
  },
  {
   "cell_type": "code",
   "execution_count": 37,
   "metadata": {
    "execution": {
     "iopub.execute_input": "2021-10-25T20:11:55.290759Z",
     "iopub.status.busy": "2021-10-25T20:11:55.290099Z",
     "iopub.status.idle": "2021-10-25T20:11:55.835473Z",
     "shell.execute_reply": "2021-10-25T20:11:55.834562Z",
     "shell.execute_reply.started": "2021-10-25T20:11:55.290713Z"
    }
   },
   "outputs": [
    {
     "data": {
      "image/png": "[encoded data removed]",
      "text/plain": [
       "<Figure size 432x288 with 1 Axes>"
      ]
     },
     "metadata": {
      "needs_background": "light"
     },
     "output_type": "display_data"
    }
   ],
   "source": [
    "df['cluster_cart'].plot(kind='hist', bins=12);"
   ]
  },
  {
   "cell_type": "code",
   "execution_count": 38,
   "metadata": {
    "execution": {
     "iopub.execute_input": "2021-10-25T20:11:55.836772Z",
     "iopub.status.busy": "2021-10-25T20:11:55.836540Z",
     "iopub.status.idle": "2021-10-25T20:11:56.236439Z",
     "shell.execute_reply": "2021-10-25T20:11:56.235626Z",
     "shell.execute_reply.started": "2021-10-25T20:11:55.836747Z"
    }
   },
   "outputs": [
    {
     "data": {
      "text/plain": [
       "<AxesSubplot:ylabel='Frequency'>"
      ]
     },
     "execution_count": 38,
     "metadata": {},
     "output_type": "execute_result"
    },
    {
     "data": {
      "image/png": "[encoded data removed]",
      "text/plain": [
       "<Figure size 432x288 with 1 Axes>"
      ]
     },
     "metadata": {
      "needs_background": "light"
     },
     "output_type": "display_data"
    }
   ],
   "source": [
    "df['cluster_user_cart'].plot(kind='hist', bins=12)"
   ]
  },
  {
   "cell_type": "markdown",
   "metadata": {},
   "source": [
    "Предположим, что записи с кластерами, которые встречаются чаще с большей вероятностью купят еще. А именно (0, 3, 5) в двух новых столбцах"
   ]
  },
  {
   "cell_type": "code",
   "execution_count": 39,
   "metadata": {
    "execution": {
     "iopub.execute_input": "2021-10-25T20:11:56.238135Z",
     "iopub.status.busy": "2021-10-25T20:11:56.237834Z",
     "iopub.status.idle": "2021-10-25T20:11:56.342613Z",
     "shell.execute_reply": "2021-10-25T20:11:56.341885Z",
     "shell.execute_reply.started": "2021-10-25T20:11:56.238090Z"
    }
   },
   "outputs": [],
   "source": [
    "zzz = df.query('(cluster_user_cart in [1, 3, 5]) and cluster_cart in [0, 3, 5]') # Запрашиваем данные, которые выполняют условия выше"
   ]
  },
  {
   "cell_type": "code",
   "execution_count": 40,
   "metadata": {
    "execution": {
     "iopub.execute_input": "2021-10-25T20:11:56.344030Z",
     "iopub.status.busy": "2021-10-25T20:11:56.343809Z",
     "iopub.status.idle": "2021-10-25T20:11:56.348612Z",
     "shell.execute_reply": "2021-10-25T20:11:56.347589Z",
     "shell.execute_reply.started": "2021-10-25T20:11:56.343989Z"
    }
   },
   "outputs": [],
   "source": [
    "def make_idx(user_id, cart):\n",
    "    return str(user_id) + ';' + str(cart)"
   ]
  },
  {
   "cell_type": "code",
   "execution_count": 41,
   "metadata": {
    "execution": {
     "iopub.execute_input": "2021-10-25T20:11:56.349947Z",
     "iopub.status.busy": "2021-10-25T20:11:56.349734Z",
     "iopub.status.idle": "2021-10-25T20:12:12.224602Z",
     "shell.execute_reply": "2021-10-25T20:12:12.223543Z",
     "shell.execute_reply.started": "2021-10-25T20:11:56.349924Z"
    }
   },
   "outputs": [],
   "source": [
    "idxs_in_both_clusters = set(zzz[['user_id', 'cart']].apply(lambda x:make_idx(*x), axis=1))"
   ]
  },
  {
   "cell_type": "code",
   "execution_count": 42,
   "metadata": {
    "execution": {
     "iopub.execute_input": "2021-10-25T20:12:12.229918Z",
     "iopub.status.busy": "2021-10-25T20:12:12.229704Z",
     "iopub.status.idle": "2021-10-25T20:12:12.535902Z",
     "shell.execute_reply": "2021-10-25T20:12:12.534994Z",
     "shell.execute_reply.started": "2021-10-25T20:12:12.229893Z"
    }
   },
   "outputs": [
    {
     "data": {
      "text/plain": [
       "<AxesSubplot:>"
      ]
     },
     "execution_count": 42,
     "metadata": {},
     "output_type": "execute_result"
    },
    {
     "data": {
      "image/png": "[encoded data removed]",
      "text/plain": [
       "<Figure size 432x288 with 1 Axes>"
      ]
     },
     "metadata": {
      "needs_background": "light"
     },
     "output_type": "display_data"
    }
   ],
   "source": [
    "sub.target.hist()"
   ]
  },
  {
   "cell_type": "code",
   "execution_count": 43,
   "metadata": {
    "execution": {
     "iopub.execute_input": "2021-10-25T20:12:12.537628Z",
     "iopub.status.busy": "2021-10-25T20:12:12.537405Z",
     "iopub.status.idle": "2021-10-25T20:12:14.075051Z",
     "shell.execute_reply": "2021-10-25T20:12:14.074016Z",
     "shell.execute_reply.started": "2021-10-25T20:12:12.537601Z"
    }
   },
   "outputs": [],
   "source": [
    "sub.to_csv('base_sub.csv', index=False)"
   ]
  },
  {
   "cell_type": "code",
   "execution_count": 44,
   "metadata": {
    "execution": {
     "iopub.execute_input": "2021-10-25T20:12:14.076782Z",
     "iopub.status.busy": "2021-10-25T20:12:14.076576Z",
     "iopub.status.idle": "2021-10-25T20:12:14.509176Z",
     "shell.execute_reply": "2021-10-25T20:12:14.508206Z",
     "shell.execute_reply.started": "2021-10-25T20:12:14.076757Z"
    }
   },
   "outputs": [
    {
     "data": {
      "text/html": [
       "<div>\n",
       "<style scoped>\n",
       "    .dataframe tbody tr th:only-of-type {\n",
       "        vertical-align: middle;\n",
       "    }\n",
       "\n",
       "    .dataframe tbody tr th {\n",
       "        vertical-align: top;\n",
       "    }\n",
       "\n",
       "    .dataframe thead th {\n",
       "        text-align: right;\n",
       "    }\n",
       "</style>\n",
       "<table border=\"1\" class=\"dataframe\">\n",
       "  <thead>\n",
       "    <tr style=\"text-align: right;\">\n",
       "      <th></th>\n",
       "      <th>id</th>\n",
       "      <th>target</th>\n",
       "    </tr>\n",
       "  </thead>\n",
       "  <tbody>\n",
       "    <tr>\n",
       "      <th>0</th>\n",
       "      <td>0;133</td>\n",
       "      <td>0</td>\n",
       "    </tr>\n",
       "    <tr>\n",
       "      <th>1</th>\n",
       "      <td>0;5</td>\n",
       "      <td>0</td>\n",
       "    </tr>\n",
       "    <tr>\n",
       "      <th>2</th>\n",
       "      <td>0;10</td>\n",
       "      <td>0</td>\n",
       "    </tr>\n",
       "    <tr>\n",
       "      <th>3</th>\n",
       "      <td>0;396</td>\n",
       "      <td>0</td>\n",
       "    </tr>\n",
       "    <tr>\n",
       "      <th>4</th>\n",
       "      <td>0;14</td>\n",
       "      <td>0</td>\n",
       "    </tr>\n",
       "    <tr>\n",
       "      <th>...</th>\n",
       "      <td>...</td>\n",
       "      <td>...</td>\n",
       "    </tr>\n",
       "    <tr>\n",
       "      <th>790444</th>\n",
       "      <td>19998;26</td>\n",
       "      <td>0</td>\n",
       "    </tr>\n",
       "    <tr>\n",
       "      <th>790445</th>\n",
       "      <td>19998;31</td>\n",
       "      <td>0</td>\n",
       "    </tr>\n",
       "    <tr>\n",
       "      <th>790446</th>\n",
       "      <td>19998;29</td>\n",
       "      <td>0</td>\n",
       "    </tr>\n",
       "    <tr>\n",
       "      <th>790447</th>\n",
       "      <td>19998;798</td>\n",
       "      <td>0</td>\n",
       "    </tr>\n",
       "    <tr>\n",
       "      <th>790448</th>\n",
       "      <td>19998;415</td>\n",
       "      <td>0</td>\n",
       "    </tr>\n",
       "  </tbody>\n",
       "</table>\n",
       "<p>790449 rows × 2 columns</p>\n",
       "</div>"
      ],
      "text/plain": [
       "               id  target\n",
       "0           0;133       0\n",
       "1             0;5       0\n",
       "2            0;10       0\n",
       "3           0;396       0\n",
       "4            0;14       0\n",
       "...           ...     ...\n",
       "790444   19998;26       0\n",
       "790445   19998;31       0\n",
       "790446   19998;29       0\n",
       "790447  19998;798       0\n",
       "790448  19998;415       0\n",
       "\n",
       "[790449 rows x 2 columns]"
      ]
     },
     "execution_count": 44,
     "metadata": {},
     "output_type": "execute_result"
    }
   ],
   "source": [
    "pd.read_csv('base_sub.csv')"
   ]
  },
  {
   "cell_type": "markdown",
   "metadata": {},
   "source": [
    "Способ с кластеризацией показал себя хуже. Возможно из-за неверно выбранного количества кластеров или ошибочного интерпретирования их влияния."
   ]
  },
  {
   "cell_type": "code",
   "execution_count": null,
   "metadata": {},
   "outputs": [],
   "source": []
  }
 ],
 "metadata": {
  "kernelspec": {
   "display_name": "Python 3",
   "language": "python",
   "name": "python3"
  },
  "language_info": {
   "codemirror_mode": {
    "name": "ipython",
    "version": 3
   },
   "file_extension": ".py",
   "mimetype": "text/x-python",
   "name": "python",
   "nbconvert_exporter": "python",
   "pygments_lexer": "ipython3",
   "version": "3.8.8"
  }
 },
 "nbformat": 4,
 "nbformat_minor": 4
}
